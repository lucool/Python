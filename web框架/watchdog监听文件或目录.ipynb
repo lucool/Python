{
 "cells": [
  {
   "cell_type": "markdown",
   "metadata": {},
   "source": [
    "需求：\n",
    "-  本地开发环境下的项目文件自动同步到远程服务器"
   ]
  },
  {
   "cell_type": "code",
   "execution_count": 1,
   "metadata": {},
   "outputs": [],
   "source": [
    "from watchdog.observers import Observer\n",
    "from watchdog.events import FileSystemEventHandler"
   ]
  },
  {
   "cell_type": "code",
   "execution_count": 2,
   "metadata": {},
   "outputs": [],
   "source": [
    "class FileHandler(FileSystemEventHandler):\n",
    "    def on_created(self, event):\n",
    "        print('---on_created----')\n",
    "        print(event.is_directory, event.src_path)\n",
    "        \n",
    "    def on_modified(self, event):\n",
    "        print('---on_modified----')\n",
    "        print(event.is_directory, event.src_path)"
   ]
  },
  {
   "cell_type": "code",
   "execution_count": 3,
   "metadata": {},
   "outputs": [
    {
     "name": "stdout",
     "output_type": "stream",
     "text": [
      "Object `FileSystemEvent` not found.\n"
     ]
    }
   ],
   "source": [
    "FileSystemEvent??"
   ]
  },
  {
   "cell_type": "code",
   "execution_count": 4,
   "metadata": {},
   "outputs": [],
   "source": [
    "import time\n",
    "observer = Observer()\n",
    "observer.schedule(FileHandler(), 'data', True)\n",
    "observer.start()\n",
    "\n",
    "try:\n",
    "    while True:\n",
    "        time.sleep(1)\n",
    "except:\n",
    "    observer.stop()\n",
    "\n",
    "observer.join()"
   ]
  }
 ],
 "metadata": {
  "kernelspec": {
   "display_name": "Python 3",
   "language": "python",
   "name": "python3"
  },
  "language_info": {
   "codemirror_mode": {
    "name": "ipython",
    "version": 3
   },
   "file_extension": ".py",
   "mimetype": "text/x-python",
   "name": "python",
   "nbconvert_exporter": "python",
   "pygments_lexer": "ipython3",
   "version": "3.7.1"
  }
 },
 "nbformat": 4,
 "nbformat_minor": 2
}
